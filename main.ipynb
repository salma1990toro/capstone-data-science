{
 "cells": [
  {
   "cell_type": "code",
   "execution_count": 17,
   "metadata": {},
   "outputs": [],
   "source": [
    "import pandas as pd   # data manipulation\n",
    "import seaborn as sns # data visualization\n",
    "import matplotlib.pyplot as plt # visualization\n",
    "from sklearn.metrics import mean_squared_error # metrics\n",
    "from sklearn.linear_model import LinearRegression # model\n",
    "from sklearn.model_selection import train_test_split  # model"
   ]
  },
  {
   "cell_type": "code",
   "execution_count": null,
   "metadata": {},
   "outputs": [],
   "source": [
    "df = pd.read_csv(\"dataset.csv\") # Load the data from the CSV file\n",
    "\n",
    "print(\"Dataset Head:\", df.head()) # Print the first few rows of the dataset\n",
    "print(\"\\nDataset Info:\", df.info()) # Print information about the dataset"
   ]
  },
  {
   "cell_type": "code",
   "execution_count": null,
   "metadata": {},
   "outputs": [],
   "source": [
    "# Cell 3 - Data Cleaning\n",
    "# Clean the data\n",
    "df_cleaned = df.copy()\n",
    "df_cleaned = df_cleaned.dropna()\n",
    "df_cleaned = df_cleaned.drop_duplicates()\n",
    "df_cleaned = df_cleaned.reset_index(drop=True)\n",
    "\n",
    "# Convert percentage strings to floats\n",
    "percent_columns = ['Deaths / 100 Cases', 'Recovered / 100 Cases', 'Deaths / 100 Recovered']\n",
    "for col in percent_columns:\n",
    "    df_cleaned[col] = pd.to_numeric(df_cleaned[col])\n"
   ]
  },
  {
   "cell_type": "markdown",
   "metadata": {},
   "source": [
    "Cell 4 - Exploratory Data Analysis"
   ]
  },
  {
   "cell_type": "code",
   "execution_count": null,
   "metadata": {},
   "outputs": [],
   "source": [
    "# Plot 1: Top 10 Countries by Confirmed Cases\n",
    "plt.figure(figsize=(12, 6))\n",
    "top_10_confirmed = df_cleaned.nlargest(10, 'Confirmed')\n",
    "sns.barplot(data=top_10_confirmed, x='Country/Region', y='Confirmed')\n",
    "plt.xticks(rotation=45)\n",
    "plt.title('Top 10 Countries by Confirmed Cases')\n",
    "plt.show()\n"
   ]
  },
  {
   "cell_type": "code",
   "execution_count": null,
   "metadata": {},
   "outputs": [],
   "source": [
    "# Plot 2: Death Rate Analysis\n",
    "plt.figure(figsize=(12, 6))\n",
    "top_10_death_rate = df_cleaned.nlargest(10, 'Deaths / 100 Cases')\n",
    "sns.barplot(data=top_10_death_rate, x='Country/Region', y='Deaths / 100 Cases')\n",
    "plt.xticks(rotation=45)\n",
    "plt.title('Top 10 Countries by Death Rate')\n",
    "plt.show()\n"
   ]
  },
  {
   "cell_type": "code",
   "execution_count": null,
   "metadata": {},
   "outputs": [],
   "source": [
    "# Plot 3: Recovery Rate by Region\n",
    "plt.figure(figsize=(10, 6))\n",
    "sns.boxplot(data=df_cleaned, x='WHO Region', y='Recovered / 100 Cases')\n",
    "plt.xticks(rotation=45)\n",
    "plt.title('Recovery Rate Distribution by WHO Region')\n",
    "plt.show()"
   ]
  },
  {
   "cell_type": "markdown",
   "metadata": {},
   "source": [
    "Cell 5 - Correlation Analysis"
   ]
  },
  {
   "cell_type": "code",
   "execution_count": null,
   "metadata": {},
   "outputs": [],
   "source": [
    "# Create correlation matrix for numerical columns\n",
    "numeric_cols = ['Confirmed', 'Deaths', 'Recovered', 'Active', 'Deaths / 100 Cases', 'Recovered / 100 Cases']\n",
    "correlation_matrix = df_cleaned[numeric_cols].corr()\n",
    "\n",
    "plt.figure(figsize=(10, 8))\n",
    "sns.heatmap(correlation_matrix, annot=True, cmap='coolwarm')\n",
    "plt.title('Correlation Matrix of COVID-19 Metrics')\n",
    "plt.show()"
   ]
  },
  {
   "cell_type": "markdown",
   "metadata": {},
   "source": [
    "Cell 6 - Predictive Modeling"
   ]
  },
  {
   "cell_type": "code",
   "execution_count": null,
   "metadata": {},
   "outputs": [],
   "source": [
    "X = df_cleaned[['Confirmed', 'Recovered', 'Active']]\n",
    "y = df_cleaned['Deaths']\n"
   ]
  },
  {
   "cell_type": "code",
   "execution_count": null,
   "metadata": {},
   "outputs": [],
   "source": [
    "# Split the data\n",
    "X_train, X_test, y_train, y_test = train_test_split(X, y, test_size=0.2, random_state=42)\n"
   ]
  },
  {
   "cell_type": "code",
   "execution_count": null,
   "metadata": {},
   "outputs": [],
   "source": [
    "# Train linear regression model\n",
    "model = LinearRegression()\n",
    "model.fit(X_train, y_train)\n"
   ]
  },
  {
   "cell_type": "code",
   "execution_count": null,
   "metadata": {},
   "outputs": [],
   "source": [
    "# Make predictions\n",
    "y_pred = model.predict(X_test)"
   ]
  },
  {
   "cell_type": "code",
   "execution_count": null,
   "metadata": {},
   "outputs": [],
   "source": [
    "# Calculate metrics\n",
    "mse = mean_squared_error(y_test, y_pred)\n",
    "r2 = model.score(X_test, y_test)\n",
    "\n",
    "print(f'Mean Squared Error: {mse:.2f}')\n",
    "print(f'R-squared Score: {r2:.2f}')\n"
   ]
  },
  {
   "cell_type": "markdown",
   "metadata": {},
   "source": [
    "Cell 7 - Model Visualization"
   ]
  },
  {
   "cell_type": "code",
   "execution_count": null,
   "metadata": {},
   "outputs": [],
   "source": [
    "plt.figure(figsize=(10, 6))\n",
    "plt.scatter(y_test, y_pred, alpha=0.5)\n",
    "plt.plot([y_test.min(), y_test.max()], [y_test.min(), y_test.max()], 'r--', lw=2)\n",
    "plt.xlabel('Actual Deaths')\n",
    "plt.ylabel('Predicted Deaths')\n",
    "plt.title('Model Predictions vs Actual Deaths')\n",
    "plt.show()\n"
   ]
  },
  {
   "cell_type": "code",
   "execution_count": null,
   "metadata": {},
   "outputs": [],
   "source": [
    "# Feature importance\n",
    "feature_importance = pd.DataFrame({'Feature': X.columns,'Coefficient': model.coef_})"
   ]
  },
  {
   "cell_type": "code",
   "execution_count": null,
   "metadata": {},
   "outputs": [],
   "source": [
    "print(\"\\nFeature Importance:\")\n",
    "print(feature_importance)\n"
   ]
  }
 ],
 "metadata": {
  "kernelspec": {
   "display_name": ".env",
   "language": "python",
   "name": "python3"
  },
  "language_info": {
   "codemirror_mode": {
    "name": "ipython",
    "version": 3
   },
   "file_extension": ".py",
   "mimetype": "text/x-python",
   "name": "python",
   "nbconvert_exporter": "python",
   "pygments_lexer": "ipython3",
   "version": "3.12.3"
  }
 },
 "nbformat": 4,
 "nbformat_minor": 2
}
